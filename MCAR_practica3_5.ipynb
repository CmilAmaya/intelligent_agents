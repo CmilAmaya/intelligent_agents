{
  "cells": [
    {
      "cell_type": "markdown",
      "metadata": {
        "id": "view-in-github",
        "colab_type": "text"
      },
      "source": [
        "<a href=\"https://colab.research.google.com/github/CmilAmaya/intelligent_agents/blob/main/MCAR_practica3_5.ipynb\" target=\"_parent\"><img src=\"https://colab.research.google.com/assets/colab-badge.svg\" alt=\"Open In Colab\"/></a>"
      ]
    },
    {
      "cell_type": "markdown",
      "metadata": {
        "id": "369Zy63Yebld"
      },
      "source": [
        "# Práctica 3.5\n",
        "### [Introducción a los sistemas inteligentes](https://fagonzalezo.github.io/)\n",
        "___________\n",
        "\n",
        "**Instrucciones de envío:**\n",
        "\n",
        "Este notebook debe enviarse a través del siguiente [File Request](https://www.dropbox.com/request/pHasW3C30nxzXzjLQl1k) antes del final de la clase. El archivo debe nombrarse como  `isi-practica3.5-unalusername.ipynb`, donde unalusername es el nombre de usuario asignado por la universidad.\n",
        "\n",
        "___________\n",
        "\n",
        "## Cuadrado de Rubik (o Cubo de Rubik 2D)\n",
        "\n",
        "El *Cuadrado de Rubik* es un rompecabezas inspirado en el famoso cubo de Rubik. Consiste de un arreglo de 16 fichas organizadas en una matriz de $4\\times 4$ como se ilustra en la siguiente figura:\n",
        "\n",
        "<img src=\"https://raw.githubusercontent.com/fagonzalezo/iis-2018-2/master/rubik2D.png\"\n",
        "alt=\"Cuadrado de Rubik \" width=\"240\" height=\"180\" border=\"10\" />\n",
        "\n",
        "Los colores son ilustrativos, lo importante es el número en cada una de las fichas. Se pueden hacer 10 movimientos diferentes correspondientes a rotar las 4 fichas alrededor de cada uno de los puntos A, B, C, D y E en el sentido de las manecillas del reloj o en el sentido opuesto.\n",
        "\n",
        "Su objetivo es modelar el *Cuadrado de Rubik* como un problema de búsqueda y resolverlo usando diferentes algoritmos de búsqueda.\n",
        "\n",
        "_________\n"
      ]
    },
    {
      "cell_type": "markdown",
      "metadata": {
        "id": "cMu3BA2ceblf"
      },
      "source": [
        "### 1. Cree una clase para modelar el problema del Cuadrado de Rubik"
      ]
    },
    {
      "cell_type": "markdown",
      "metadata": {
        "id": "KIoMV3Imeblh"
      },
      "source": [
        "Un Cuadrado de Rubik debe representarse como una lista con valores enteros que representan cada una de las fichas.\n",
        "\n",
        "Por ejemplo un Cuadrado de Rubik resuelto debe verse así:\n",
        "\n",
        "```python\n",
        "[ 1,  2,  3,  4,\n",
        "  5,  6,  7,  8,\n",
        "  9, 10, 11, 12,\n",
        " 13, 14, 15, 16]\n",
        "```"
      ]
    },
    {
      "cell_type": "markdown",
      "metadata": {
        "id": "tz4fk_bGeblj"
      },
      "source": [
        "#### Definición de acciones\n",
        "\n",
        "La siguiente lista define las posibles acciones que se pueden ejecutar:"
      ]
    },
    {
      "cell_type": "code",
      "execution_count": null,
      "metadata": {
        "id": "vnstWJUpeblk"
      },
      "outputs": [],
      "source": [
        "'''\n",
        "These values MUST not be changed.\n",
        "They represent the movements of the Rubik's Square.\n",
        "'''\n",
        "ACTIONS = [\"A+\", \"A-\", \"B+\", \"B-\", \"C+\", \"C-\", \"D+\", \"D-\", \"E+\", \"E-\"]"
      ]
    },
    {
      "cell_type": "markdown",
      "metadata": {
        "id": "WrdyJh3ueblu"
      },
      "source": [
        "Cada acción indica la posición y el sentido. Por ejemplo, `'C-'` rota la posición C en el sentido opuesto de las manecillas del reloj. Si aplicamos esta acción al estado solución se obtiene el estado:\n",
        "\n",
        "```python\n",
        "[ 1,  2,  3,  4,\n",
        "  5,  7, 11,  8,\n",
        "  9,  6, 10, 12,\n",
        " 13, 14, 15, 16]\n",
        "```\n",
        "\n",
        "Si sobre este estado, aplicamos la acción `'E+'` obtenemos:\n",
        "\n",
        "```python\n",
        "[ 1,  2,  3,  4,\n",
        "  5,  7, 11,  8,\n",
        "  9,  6, 15, 10,\n",
        " 13, 14, 16, 12]\n",
        "```"
      ]
    },
    {
      "cell_type": "markdown",
      "metadata": {
        "id": "K5e9pPyHeblu"
      },
      "source": [
        "#### Clase Rubik2D_problem"
      ]
    },
    {
      "cell_type": "code",
      "execution_count": null,
      "metadata": {
        "id": "qbP_KBZ4eblw"
      },
      "outputs": [],
      "source": [
        "# This is the Problem class from AIMA, you don't have to modify it\n",
        "\n",
        "class Problem(object):\n",
        "    \"\"\"The abstract class for a formal problem. A new domain subclasses this,\n",
        "    overriding `actions` and `results`, and perhaps other methods.\n",
        "    The default heuristic is 0 and the default action cost is 1 for all states.\n",
        "    When yiou create an instance of a subclass, specify `initial`, and `goal` states\n",
        "    (or give an `is_goal` method) and perhaps other keyword args for the subclass.\"\"\"\n",
        "\n",
        "    def __init__(self, initial=None, goal=None, **kwds):\n",
        "        self.__dict__.update(initial=initial, goal=goal, **kwds)\n",
        "\n",
        "    def actions(self, state):        raise NotImplementedError\n",
        "    def result(self, state, action): raise NotImplementedError\n",
        "    def is_goal(self, state):        return state == self.goal\n",
        "    def action_cost(self, s, a, s1): return 1\n",
        "    def h(self, node):               return 0\n",
        "\n",
        "    def __str__(self):\n",
        "        return '{}({!r}, {!r})'.format(\n",
        "            type(self).__name__, self.initial, self.goal)\n",
        "\n",
        "\n",
        "class Rubik2d_problem(Problem):\n",
        "\n",
        "    def __init__(self, initial):\n",
        "        '''\n",
        "        Store the initial state in the problem representation and any useful\n",
        "        data.\n",
        "        Here are some examples of initial states:\n",
        "        [1, 2, 7, 3, 5, 9, 6, 4, 13, 11, 12, 16, 14, 10, 8, 15]\n",
        "        [1, 9, 4, 8, 5, 6, 3, 2, 15, 10, 11, 12, 13, 14, 7, 16]\n",
        "        [2, 7, 4, 8, 1, 5, 3, 11, 14, 13, 15, 10, 6, 9, 16, 12]\n",
        "        '''\n",
        "        self.expanded = 0\n",
        "        self.goal = tuple([i for i in range(1, 17)])  # Goal state is numbers 1-16 in order\n",
        "        super().__init__(initial=tuple(initial), goal=self.goal)\n",
        "\n",
        "    def actions(self, state):\n",
        "        \"\"\"Return a list of actions that can be executed in the given\n",
        "        state.\"\"\"\n",
        "        return ACTIONS  # Using the predefined actions list [\"A+\", \"A-\", \"B+\", \"B-\", \"C+\", \"C-\", \"D+\", \"D-\", \"E+\", \"E-\"]\n",
        "\n",
        "    def result(self, state, action):\n",
        "        \"\"\"\n",
        "        Return the state that results from executing the given\n",
        "        action at the given state. The action must be one of\n",
        "        self.actions(state).\n",
        "        \"\"\"\n",
        "        new_state = list(state)  # Create a copy to avoid modifying the original state\n",
        "\n",
        "        # Define which positions are affected by each rotation point\n",
        "        rotations = {\n",
        "            'A': [0, 1, 5, 4],    # Top-left rotation point\n",
        "            'B': [2, 3, 7, 6],\n",
        "            'C': [5, 6, 10, 9],\n",
        "            'D': [8, 9, 13, 12],\n",
        "            'E': [10, 11, 15, 14],\n",
        "\n",
        "        }\n",
        "\n",
        "        point = action[0]  # Get the rotation point (A, B, C, D, or E)\n",
        "        direction = action[1]  # Get the direction (+ or -)\n",
        "        affected_positions = rotations[point]\n",
        "\n",
        "        if direction == '+':  # Clockwise rotation\n",
        "            values = [state[i] for i in affected_positions]\n",
        "            values = [values[-1]] + values[:-1]  # Rotate right\n",
        "        else:  # Counter-clockwise rotation\n",
        "            values = [state[i] for i in affected_positions]\n",
        "            values = values[1:] + [values[0]]  # Rotate left\n",
        "\n",
        "        for pos, val in zip(affected_positions, values):\n",
        "            new_state[pos] = val\n",
        "\n",
        "        return tuple(new_state)  # Return the new state as a tuple\n",
        "\n",
        "    def is_goal(self, state):\n",
        "        '''\n",
        "        Define when a given state is a goal state\n",
        "        '''\n",
        "        return state == self.goal\n",
        "\n",
        "    def action_cost(self, s, a, s1):\n",
        "        \"\"\"\n",
        "        Return the cost of a solution path that arrives at s1 from\n",
        "        state s via action a.\n",
        "        \"\"\"\n",
        "        return 1  # Uniform cost for all actions\n",
        "\n"
      ]
    },
    {
      "cell_type": "markdown",
      "metadata": {
        "id": "OQZ94Sq7ebl2"
      },
      "source": [
        "### 2. Evalue su código con diferentes estrategias de búsqueda\n",
        "\n"
      ]
    },
    {
      "cell_type": "markdown",
      "metadata": {
        "id": "RtOQ5gvwi3wE"
      },
      "source": [
        "Consulte el código en el repositorio de AIMA (https://github.com/aimacode/aima-python/blob/master/search4e.ipynb) y utilice las implementaciones de búsqueda en amplitud y búsqueda en profundidad iterativa.\n",
        "\n",
        "Evaluelo para ver cuál es la máxima profundidad que se puede alcanzar en un tiempo razonable con cada estrategia de búsqueda. Reporte los resultados."
      ]
    },
    {
      "cell_type": "code",
      "source": [
        "%matplotlib inline\n",
        "import matplotlib.pyplot as plt\n",
        "import random\n",
        "import heapq\n",
        "import math\n",
        "import sys\n",
        "from collections import defaultdict, deque, Counter\n",
        "from itertools import combinations\n",
        "\n",
        "\n",
        "class Problem(object):\n",
        "    \"\"\"The abstract class for a formal problem. A new domain subclasses this,\n",
        "    overriding `actions` and `results`, and perhaps other methods.\n",
        "    The default heuristic is 0 and the default action cost is 1 for all states.\n",
        "    When yiou create an instance of a subclass, specify `initial`, and `goal` states\n",
        "    (or give an `is_goal` method) and perhaps other keyword args for the subclass.\"\"\"\n",
        "\n",
        "    def __init__(self, initial=None, goal=None, **kwds):\n",
        "        self.__dict__.update(initial=initial, goal=goal, **kwds)\n",
        "\n",
        "    def actions(self, state):        raise NotImplementedError\n",
        "    def result(self, state, action): raise NotImplementedError\n",
        "    def is_goal(self, state):        return state == self.goal\n",
        "    def action_cost(self, s, a, s1): return 1\n",
        "    def h(self, node):               return 0\n",
        "\n",
        "    def __str__(self):\n",
        "        return '{}({!r}, {!r})'.format(\n",
        "            type(self).__name__, self.initial, self.goal)\n",
        "\n",
        "\n",
        "class Node:\n",
        "    \"A Node in a search tree.\"\n",
        "    def __init__(self, state, parent=None, action=None, path_cost=0):\n",
        "        self.__dict__.update(state=state, parent=parent, action=action, path_cost=path_cost)\n",
        "\n",
        "    def __repr__(self): return '<{}>'.format(self.state)\n",
        "    def __len__(self): return 0 if self.parent is None else (1 + len(self.parent))\n",
        "    def __lt__(self, other): return self.path_cost < other.path_cost\n",
        "\n",
        "\n",
        "failure = Node('failure', path_cost=math.inf) # Indicates an algorithm couldn't find a solution.\n",
        "cutoff  = Node('cutoff',  path_cost=math.inf) # Indicates iterative deepening search was cut off.\n",
        "\n",
        "\n",
        "def expand(problem, node):\n",
        "    \"Expand a node, generating the children nodes.\"\n",
        "    s = node.state\n",
        "    for action in problem.actions(s):\n",
        "        s1 = problem.result(s, action)\n",
        "        cost = node.path_cost + problem.action_cost(s, action, s1)\n",
        "        yield Node(s1, node, action, cost)\n",
        "\n",
        "\n",
        "def path_actions(node):\n",
        "    \"The sequence of actions to get to this node.\"\n",
        "    if node.parent is None:\n",
        "        return []\n",
        "    return path_actions(node.parent) + [node.action]\n",
        "\n",
        "\n",
        "def path_states(node):\n",
        "    \"The sequence of states to get to this node.\"\n",
        "    if node in (cutoff, failure, None):\n",
        "        return []\n",
        "    return path_states(node.parent) + [node.state]"
      ],
      "metadata": {
        "id": "lEUny_-kwh9a"
      },
      "execution_count": null,
      "outputs": []
    },
    {
      "cell_type": "code",
      "source": [
        "FIFOQueue = deque\n",
        "\n",
        "LIFOQueue = list\n",
        "\n",
        "class PriorityQueue:\n",
        "    \"\"\"A queue in which the item with minimum f(item) is always popped first.\"\"\"\n",
        "\n",
        "    def __init__(self, items=(), key=lambda x: x):\n",
        "        self.key = key\n",
        "        self.items = [] # a heap of (score, item) pairs\n",
        "        for item in items:\n",
        "            self.add(item)\n",
        "\n",
        "    def add(self, item):\n",
        "        \"\"\"Add item to the queuez.\"\"\"\n",
        "        pair = (self.key(item), item)\n",
        "        heapq.heappush(self.items, pair)\n",
        "\n",
        "    def pop(self):\n",
        "        \"\"\"Pop and return the item with min f(item) value.\"\"\"\n",
        "        return heapq.heappop(self.items)[1]\n",
        "\n",
        "    def top(self): return self.items[0][1]\n",
        "\n",
        "    def __len__(self): return len(self.items)"
      ],
      "metadata": {
        "id": "WfKnYJLwwjta"
      },
      "execution_count": null,
      "outputs": []
    },
    {
      "cell_type": "code",
      "source": [
        "def bfs(problem):\n",
        "    \"\"\"\n",
        "    Perform a breadth-first search on the problem.\n",
        "    Return the list of actions to reach the goal state.\n",
        "    \"\"\"\n",
        "    node = Node(problem.initial)\n",
        "    if problem.is_goal(problem.initial):\n",
        "        return node\n",
        "    frontier = FIFOQueue([node])\n",
        "    reached = {problem.initial}\n",
        "    while frontier:\n",
        "        node = frontier.pop()\n",
        "        for child in expand(problem, node):\n",
        "            s = child.state\n",
        "            if problem.is_goal(s):\n",
        "                return child\n",
        "            if s not in reached:\n",
        "                reached.add(s)\n",
        "                frontier.appendleft(child)\n",
        "    return failure\n",
        "\n",
        "\n",
        "def is_cycle(node, k=30):\n",
        "    \"Does this node form a cycle of length k or less?\"\n",
        "    def find_cycle(ancestor, k):\n",
        "        return (ancestor is not None and k > 0 and\n",
        "                (ancestor.state == node.state or find_cycle(ancestor.parent, k - 1)))\n",
        "    return find_cycle(node.parent, k)\n",
        "\n",
        "def depth_limited_search(problem, limit=10):\n",
        "    \"Search deepest nodes in the search tree first.\"\n",
        "    frontier = LIFOQueue([Node(problem.initial)])\n",
        "    result = failure\n",
        "    while frontier:\n",
        "        node = frontier.pop()\n",
        "        if problem.is_goal(node.state):\n",
        "            return node\n",
        "        elif len(node) >= limit:\n",
        "            result = cutoff\n",
        "        elif not is_cycle(node):\n",
        "            for child in expand(problem, node):\n",
        "                frontier.append(child)\n",
        "    return result\n",
        "\n",
        "def iterative_deepening_search(problem):\n",
        "    \"Do depth-limited search with increasing depth limits.\"\n",
        "    for limit in range(1, sys.maxsize):\n",
        "        result = depth_limited_search(problem, limit)\n",
        "        if result != cutoff:\n",
        "            return result\n",
        "\n",
        "\n",
        "# Creates a problem instance to simulate some moves\n",
        "problem = Rubik2d_problem(list(range(1, 17)))\n",
        "state = problem.initial\n",
        "print(state)\n",
        "state = problem.result(state, \"A+\")\n",
        "print(state)\n",
        "state = problem.result(state, \"B-\")\n",
        "\n",
        "# Now you can test the search algorithms\n",
        "problem = Rubik2d_problem(state)\n",
        "actions = bfs(problem)\n",
        "print(actions)\n",
        "actions = iterative_deepening_search(problem)\n",
        "print(actions)"
      ],
      "metadata": {
        "id": "2PtDBCr76n7r",
        "outputId": "5aac0618-f812-4aae-f53a-3469575cafef",
        "colab": {
          "base_uri": "https://localhost:8080/"
        }
      },
      "execution_count": null,
      "outputs": [
        {
          "output_type": "stream",
          "name": "stdout",
          "text": [
            "(1, 2, 3, 4, 5, 6, 7, 8, 9, 10, 11, 12, 13, 14, 15, 16)\n",
            "(5, 1, 3, 4, 6, 2, 7, 8, 9, 10, 11, 12, 13, 14, 15, 16)\n",
            "<(1, 2, 3, 4, 5, 6, 7, 8, 9, 10, 11, 12, 13, 14, 15, 16)>\n",
            "<(1, 2, 3, 4, 5, 6, 7, 8, 9, 10, 11, 12, 13, 14, 15, 16)>\n"
          ]
        }
      ]
    },
    {
      "cell_type": "markdown",
      "metadata": {
        "id": "ZTm4aLASi3wE"
      },
      "source": [
        "Try the following problem. What happens?"
      ]
    },
    {
      "cell_type": "code",
      "execution_count": null,
      "metadata": {
        "id": "biDSbvY3i3wE",
        "colab": {
          "base_uri": "https://localhost:8080/"
        },
        "outputId": "edf95678-03d0-4c4e-d2fa-829c9cf3dd90"
      },
      "outputs": [
        {
          "output_type": "stream",
          "name": "stdout",
          "text": [
            "<(1, 2, 3, 4, 5, 6, 7, 8, 9, 10, 11, 12, 13, 14, 15, 16)>\n"
          ]
        }
      ],
      "source": [
        "problem = Rubik2d_problem( [1, 2, 7, 3, 5, 9, 6, 4, 13, 11, 12, 16, 14, 10, 8, 15])\n",
        "\n",
        "state = problem.initial\n",
        "\n",
        "actions = iterative_deepening_search(problem)\n",
        "print(actions)\n"
      ]
    },
    {
      "cell_type": "markdown",
      "metadata": {
        "id": "wbPp0Sy8ebl-"
      },
      "source": [
        "## 3. Implemente diferente heurísticas para el problema"
      ]
    },
    {
      "cell_type": "markdown",
      "metadata": {
        "collapsed": true,
        "id": "jxHUhCveebl-"
      },
      "source": [
        "Consulte el código en el repositorio de AIMA (https://github.com/aimacode/aima-python/blob/master/search4e.ipynb) y utilice la implementación de A*.\n",
        "\n",
        "Implemente al menos dos heurísticas admisibles y consistentes. Compare A * usando la heurística contra IDS calculando el número de nodos expandidos y el factor de ramificación efectivo, de la misma forma como se hace en la figura 3.29 de la 3ra edición de [Russell10]."
      ]
    },
    {
      "cell_type": "code",
      "source": [
        "def nullHeuristic(state):\n",
        "    return 0\n",
        "\n",
        "def aStarSearch(problem, h=nullHeuristic):\n",
        "    \"\"\"\n",
        "    Perform an A*t search on the problem.\n",
        "    Returns the list of actions to reach the goal state.\n",
        "    \"\"\"\n",
        "    ### your code here ###\n",
        "    return []\n",
        "\n",
        "def myHeuristic(state):\n",
        "    ### your code here ###\n",
        "    return 0\n",
        "\n"
      ],
      "metadata": {
        "id": "N9bZf1DooXUS"
      },
      "execution_count": null,
      "outputs": []
    },
    {
      "cell_type": "code",
      "execution_count": null,
      "metadata": {
        "id": "IwyK-KeJebmC"
      },
      "outputs": [],
      "source": [
        "problem = Rubik2d_problem([2, 7, 4, 8, 1, 5, 3, 11, 14, 13, 15, 10, 6, 9, 16, 12])\n",
        "\n",
        "print(iterativeDeepeningSearch(problem))\n",
        "print(aStarSearch(problem, myHeuristic))"
      ]
    },
    {
      "cell_type": "code",
      "execution_count": null,
      "metadata": {
        "id": "D_JyoQJ_i3wF"
      },
      "outputs": [],
      "source": []
    }
  ],
  "metadata": {
    "colab": {
      "provenance": [],
      "include_colab_link": true
    },
    "kernelspec": {
      "display_name": "base",
      "language": "python",
      "name": "python3"
    },
    "language_info": {
      "codemirror_mode": {
        "name": "ipython",
        "version": 3
      },
      "file_extension": ".py",
      "mimetype": "text/x-python",
      "name": "python",
      "nbconvert_exporter": "python",
      "pygments_lexer": "ipython3",
      "version": "3.10.12"
    }
  },
  "nbformat": 4,
  "nbformat_minor": 0
}