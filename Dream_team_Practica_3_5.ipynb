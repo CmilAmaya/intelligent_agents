{
  "cells": [
    {
      "cell_type": "markdown",
      "metadata": {
        "id": "view-in-github",
        "colab_type": "text"
      },
      "source": [
        "<a href=\"https://colab.research.google.com/github/CmilAmaya/intelligent_agents/blob/main/Dream_team_Practica_3_5.ipynb\" target=\"_parent\"><img src=\"https://colab.research.google.com/assets/colab-badge.svg\" alt=\"Open In Colab\"/></a>"
      ]
    },
    {
      "cell_type": "markdown",
      "metadata": {
        "id": "369Zy63Yebld"
      },
      "source": [
        "# Práctica 3.5\n",
        "### [Introducción a los sistemas inteligentes](https://fagonzalezo.github.io/)\n",
        "___________\n",
        "\n",
        "**Instrucciones de envío:**\n",
        "\n",
        "Este notebook debe enviarse a través del siguiente [File Request](https://www.dropbox.com/request/0zhMgxCML3Q8tSG35kbE) antes del final de la clase. El archivo debe nombrarse como  `isi-practica3.5-unalusername1-unalusername2-unalusername3.ipynb`, donde unalusername es el nombre de usuario asignado por la universidad de cada uno de los miembros del grupo.\n",
        "\n",
        "**Grupo de trabajo:**\n",
        "\n",
        "* Juan David Rodríguez Gomez juarodriguezgo@unal.edu.co\n",
        "* María Camila Amaya Rodríguez mamayaro@unal.edu.co\n",
        "* Sergio Andrés Castro Vargas secastrov@unal.edu.co\n",
        "\n",
        "___________\n",
        "\n",
        "## Triple Cross Puzzle\n",
        "\n",
        "El *Triple Cross* es un rompecabezas diseñado por la empresa Binary Arts.\n",
        "\n",
        "<img src=\"https://www.cs.brandeis.edu/~storer/JimPuzzles/SLIDE/PortToPort/TripleCrossPhoto-TN.jpg\"\n",
        "alt=\"Triple Cross \" width=\"240\" height=\"180\" border=\"10\" />\n",
        "\n",
        "Aquí puede encontrar más detalles: https://www.jaapsch.net/puzzles/port.htm.\n",
        "\n",
        "Su objetivo es modelar el *Triple Cross* como un problema de búsqueda y resolverlo usando diferentes algoritmos de búsqueda.\n",
        "\n",
        "_________\n"
      ]
    },
    {
      "cell_type": "markdown",
      "metadata": {
        "id": "cMu3BA2ceblf"
      },
      "source": [
        "### 1. Cree una clase para modelar el problema del Triple Cross"
      ]
    },
    {
      "cell_type": "markdown",
      "metadata": {
        "id": "WrdyJh3ueblu"
      },
      "source": [
        "Debe utilizar la plantilla de clase que se encuentra en la siguiente celda."
      ]
    },
    {
      "cell_type": "markdown",
      "metadata": {
        "id": "K5e9pPyHeblu"
      },
      "source": [
        "#### Clase TripleCross_problem"
      ]
    },
    {
      "cell_type": "code",
      "source": [
        "GOAL_STATE = (\n",
        "    0,0,0,0,0,1,1,0,0,\n",
        "    0,2,3,4,1,1,5,6,0,\n",
        "    0,1,1,1,1,1,7,8,0,\n",
        "    0,0,9,10,0,0,0,0,0\n",
        ")"
      ],
      "metadata": {
        "id": "YXugIxBX0eCV"
      },
      "execution_count": null,
      "outputs": []
    },
    {
      "cell_type": "code",
      "source": [
        "ACTIONS  = [\"M-\",\"M+\",\"P-\",\"P+\",\"Q-\",\"Q+\"]"
      ],
      "metadata": {
        "id": "bmupbO29PMn3"
      },
      "execution_count": null,
      "outputs": []
    },
    {
      "cell_type": "code",
      "execution_count": null,
      "metadata": {
        "id": "qbP_KBZ4eblw"
      },
      "outputs": [],
      "source": [
        "# This is the Problem class from AIMA, you don't have to modify it\n",
        "\n",
        "class Problem(object):\n",
        "    \"\"\"The abstract class for a formal problem. A new domain subclasses this,\n",
        "    overriding `actions` and `results`, and perhaps other methods.\n",
        "    The default heuristic is 0 and the default action cost is 1 for all states.\n",
        "    When yiou create an instance of a subclass, specify `initial`, and `goal` states\n",
        "    (or give an `is_goal` method) and perhaps other keyword args for the subclass.\"\"\"\n",
        "\n",
        "    def __init__(self, initial=None, goal=None, **kwds):\n",
        "        self.__dict__.update(initial=initial, goal=goal, **kwds)\n",
        "\n",
        "    def actions(self, state):        raise NotImplementedError\n",
        "    def result(self, state, action): raise NotImplementedError\n",
        "    def is_goal(self, state):        return state == self.goal\n",
        "    def action_cost(self, s, a, s1): return 1\n",
        "    def h(self, node):               return 0\n",
        "\n",
        "    def __str__(self):\n",
        "        return '{}({!r}, {!r})'.format(\n",
        "            type(self).__name__, self.initial, self.goal)\n",
        "\n",
        "\n",
        "class TripleCross_problem(Problem):\n",
        "\n",
        "    def __init__(self, initial):\n",
        "        '''\n",
        "        Store the initial state in the problem representation and any useful\n",
        "        data.\n",
        "        '''\n",
        "        self.expanded = 0\n",
        "        self.goal = GOAL_STATE\n",
        "        super().__init__(initial=tuple(initial), goal=self.goal)\n",
        "        self.pattern_lines   = {2, 3, 4}\n",
        "        self.pattern_circles = {5, 6, 7, 8}\n",
        "        self.pattern_logos   = {9, 10}\n",
        "        self.relevant_tiles  = self.pattern_lines | self.pattern_circles | self.pattern_logos\n",
        "\n",
        "        # Diccionario de movimientos\n",
        "        self.ACTION_AFFECTED = {\n",
        "            \"M\": [9,10,11,12,13,14,15,16,17] + [18,19,20,21,22,23,24,25,26],\n",
        "            \"Q\": [5,6,14,15,23,24,32,33],\n",
        "            \"P\": [2,3,11,12,20,21,29,30]\n",
        "        }\n",
        "\n",
        "        # Precalcular \"capacidad\" máxima de corrección\n",
        "        relevant_goal_positions = {i for i,t in enumerate(self.goal) if t in self.relevant_tiles}\n",
        "        self.max_fixable = 1\n",
        "        for affected in self.ACTION_AFFECTED.values():\n",
        "            cnt = sum(1 for pos in affected if pos in relevant_goal_positions)\n",
        "            self.max_fixable = max(self.max_fixable, cnt)\n",
        "\n",
        "    def actions(self, state):\n",
        "        \"\"\"Return a list of actions that can be executed in the given\n",
        "        state.\"\"\"\n",
        "\n",
        "        return ACTIONS\n",
        "\n",
        "    def result(self, state, action):\n",
        "        \"\"\"\n",
        "        Return the state that results from executing the given\n",
        "        action at the given state. The action must be one of\n",
        "        self.actions(state).\n",
        "        \"\"\"\n",
        "        new_state = list(state)  # Create a copy to avoid modifying the original state\n",
        "\n",
        "        # Your code here\n",
        "        movements = {\n",
        "            \"M\": [9,10,11,12,13,14,15,16,17] + [18,19,20,21,22,23,24,25,26],\n",
        "            \"Q\":  [5,6,14,15,23,24,32,33],\n",
        "            \"P\":  [2,3,11,12,20,21,29,30]\n",
        "        }\n",
        "\n",
        "        piece = action[0]\n",
        "        direction = action[1]\n",
        "        affected_positions = movements[piece]\n",
        "\n",
        "        #M constants (limits)\n",
        "        M1 = 8\n",
        "        M2 = len(movements[\"M\"])\n",
        "\n",
        "        #Not possible to move to left\n",
        "        first_position_M_1 = 9\n",
        "        first_position_M_2 = 18\n",
        "\n",
        "        #Not possible to move to right\n",
        "        last_position_M_1 = 17\n",
        "        last_position_M_2 = 26\n",
        "\n",
        "        if piece == \"M\":\n",
        "          ##move 2 rows\n",
        "          valuesFirstRow = [state[i] for i in affected_positions[:M1+1]]\n",
        "          valuesSecondRow = [state[i] for i in affected_positions[M1+1:M2+1]]\n",
        "\n",
        "          if direction == \"-\":\n",
        "\n",
        "              #Check if possible to move\n",
        "              if valuesFirstRow[0] != 0 and valuesSecondRow[0] != 0:\n",
        "                return tuple(new_state)\n",
        "\n",
        "\n",
        "              valuesFirstRow = valuesFirstRow[1:] + [valuesFirstRow[0]]\n",
        "              valuesSecondRow = valuesSecondRow[1:] + [valuesSecondRow[0]]\n",
        "\n",
        "              values = valuesFirstRow + valuesSecondRow\n",
        "          else:\n",
        "\n",
        "              #Check if possible to move\n",
        "              if valuesFirstRow[-1] != 0 and valuesSecondRow[-1] != 0:\n",
        "                return tuple(new_state)\n",
        "\n",
        "              valuesFirstRow = [valuesFirstRow[-1]] + valuesFirstRow[:-1]\n",
        "              valuesSecondRow = [valuesSecondRow[-1]] + valuesSecondRow[:-1]\n",
        "\n",
        "              values = valuesFirstRow + valuesSecondRow\n",
        "\n",
        "\n",
        "        elif piece == \"Q\" or piece == \"P\":\n",
        "          values = [state[i] for i in affected_positions]\n",
        "          if direction == \"-\":\n",
        "            #check if possible to move\n",
        "            if(values[-1] != 0 and values[-2] != 0):\n",
        "\n",
        "              return tuple(new_state)\n",
        "\n",
        "            values = values[-2:] + values[:-2]\n",
        "          else:\n",
        "            #check if possible to move\n",
        "            if(values[0] != 0 and values[1] != 0):\n",
        "\n",
        "              return tuple(new_state)\n",
        "            values = values[2:] + values[:2]\n",
        "\n",
        "        else:\n",
        "          pass\n",
        "\n",
        "\n",
        "        #update state\n",
        "        for pos, val in zip(affected_positions, values):\n",
        "            new_state[pos] = val\n",
        "\n",
        "        return tuple(new_state)  # Return the new state as a tuple\n",
        "\n",
        "    def is_goal(self, state):\n",
        "      return state == self.goal\n",
        "\n",
        "\n",
        "    def action_cost(self, s, a, s1):\n",
        "        \"\"\"\n",
        "        Return the cost of a solution path that arrives at s1 from\n",
        "        state s via action a.\n",
        "        \"\"\"\n",
        "        return 1  # Uniform cost for all actions\n",
        "\n",
        "    #Selector de heurística\n",
        "    def h(self, node):\n",
        "      return h2(self, node)\n",
        "\n",
        "    def h2(self, node):\n",
        "      \"\"\"The Manhattan heuristic.\"\"\"\n",
        "      X = (0, 1, 2, 3,\n",
        "           0, 1, 2, 3,\n",
        "           0, 1, 2, 3,\n",
        "           0, 1, 2, 3)\n",
        "\n",
        "      Y = (0, 0, 0, 0,\n",
        "           1, 1, 1, 1,\n",
        "           2, 2, 2, 2,\n",
        "           3, 3, 3, 3)\n",
        "      return sum(abs(X[s-1] - X[g-1]) + abs(Y[s-1] - Y[g-1])\n",
        "                  for (s, g) in zip(node.state, self.goal))\n",
        "\n",
        "    def h3(self, node):\n",
        "      \"\"\"Heurística #3: capacity.\n",
        "      Cuenta cuántas fichas relevantes están fuera de lugar\n",
        "      y divide entre la máxima cantidad que un movimiento podría arreglar.\"\"\"\n",
        "      misplaced = sum(\n",
        "          1 for i, t in enumerate(node.state)\n",
        "          if t in self.relevant_tiles and t != self.goal[i]\n",
        "      )\n",
        "      import math\n",
        "      return math.ceil(misplaced / self.max_fixable)\n",
        "\n",
        "    def h4(self, node):\n",
        "      \"\"\"Heurística #4: basada en grupos (línea, círculo, logos).\"\"\"\n",
        "      s = node.state\n",
        "      goal = self.goal\n",
        "      mis_lines = sum(1 for i,t in enumerate(s)\n",
        "                      if t in self.pattern_lines and goal[i] not in self.pattern_lines)\n",
        "      mis_circles = sum(1 for i,t in enumerate(s)\n",
        "                        if t in self.pattern_circles and goal[i] not in self.pattern_circles)\n",
        "      mis_logos = sum(1 for i,t in enumerate(s)\n",
        "                      if t in self.pattern_logos and goal[i] not in self.pattern_logos)\n",
        "      return mis_lines + mis_circles + mis_logos\n",
        "\n",
        "\n",
        "\n",
        "def board36(board, fmt=(4 * '{} {} {} {} {} {} {} {} {}\\n')):\n",
        "  \"A string representing an 36-puzzle board\"\n",
        "  return fmt.format(*board)\n",
        "\n"
      ]
    },
    {
      "cell_type": "code",
      "source": [
        "problem = TripleCross_problem(GOAL_STATE)\n",
        "state = problem.initial\n",
        "print(board36(state))\n",
        "\n",
        "state = problem.result(state, \"M-\")\n",
        "print(board36(state))\n",
        "state = problem.result(state, \"P+\")\n",
        "print(board36(state))\n",
        "state = problem.result(state, \"Q-\")\n",
        "print(board36(state))\n",
        "\n"
      ],
      "metadata": {
        "colab": {
          "base_uri": "https://localhost:8080/"
        },
        "id": "vYYk9TTxXFSb",
        "outputId": "865e7940-1fb2-4c86-997d-942e2d7b356e"
      },
      "execution_count": null,
      "outputs": [
        {
          "output_type": "stream",
          "name": "stdout",
          "text": [
            "0 0 0 0 0 1 1 0 0\n",
            "0 2 3 4 1 1 5 6 0\n",
            "0 1 1 1 1 1 7 8 0\n",
            "0 0 9 10 0 0 0 0 0\n",
            "\n",
            "0 0 0 0 0 1 1 0 0\n",
            "2 3 4 1 1 5 6 0 0\n",
            "1 1 1 1 1 7 8 0 0\n",
            "0 0 9 10 0 0 0 0 0\n",
            "\n",
            "0 0 4 1 0 1 1 0 0\n",
            "2 3 1 1 1 5 6 0 0\n",
            "1 1 9 10 1 7 8 0 0\n",
            "0 0 0 0 0 0 0 0 0\n",
            "\n",
            "0 0 4 1 0 0 0 0 0\n",
            "2 3 1 1 1 1 1 0 0\n",
            "1 1 9 10 1 5 6 0 0\n",
            "0 0 0 0 0 7 8 0 0\n",
            "\n"
          ]
        }
      ]
    },
    {
      "cell_type": "code",
      "source": [
        "import matplotlib.pyplot as plt\n",
        "import random\n",
        "import heapq\n",
        "import math\n",
        "import sys\n",
        "from collections import defaultdict, deque, Counter\n",
        "from itertools import combinations\n",
        "\n",
        "failure = object()\n",
        "cutoff  = object()\n",
        "\n",
        "class Node:\n",
        "    \"A Node in a search tree.\"\n",
        "    def __init__(self, state, parent=None, action=None, path_cost=0):\n",
        "        self.__dict__.update(state=state, parent=parent, action=action, path_cost=path_cost)\n",
        "\n",
        "    def __repr__(self): return '<{}>'.format(self.state)\n",
        "    def __len__(self): return 0 if self.parent is None else (1 + len(self.parent))\n",
        "    def __lt__(self, other): return self.path_cost < other.path_cost\n",
        "\n",
        "def expand(problem, node):\n",
        "    \"Expand a node, generating the children nodes.\"\n",
        "    s = node.state\n",
        "    for action in problem.actions(s):\n",
        "        s1 = problem.result(s, action)\n",
        "        cost = node.path_cost + problem.action_cost(s, action, s1)\n",
        "        yield Node(s1, node, action, cost)\n",
        "\n",
        "\n",
        "def path_actions(node):\n",
        "    \"The sequence of actions to get to this node.\"\n",
        "    if node.parent is None:\n",
        "        return []\n",
        "    return path_actions(node.parent) + [node.action]\n",
        "\n",
        "\n",
        "def path_states(node):\n",
        "    \"The sequence of states to get to this node.\"\n",
        "    if node in (cutoff, failure, None):\n",
        "        return []\n",
        "    return path_states(node.parent) + [node.state]\n",
        "\n",
        "FIFOQueue = deque\n",
        "\n",
        "LIFOQueue = list\n",
        "\n",
        "class PriorityQueue:\n",
        "    \"\"\"A queue in which the item with minimum f(item) is always popped first.\"\"\"\n",
        "\n",
        "    def __init__(self, items=(), key=lambda x: x):\n",
        "        self.key = key\n",
        "        self.items = [] # a heap of (score, item) pairs\n",
        "        for item in items:\n",
        "            self.add(item)\n",
        "\n",
        "    def add(self, item):\n",
        "        \"\"\"Add item to the queuez.\"\"\"\n",
        "        pair = (self.key(item), item)\n",
        "        heapq.heappush(self.items, pair)\n",
        "\n",
        "    def pop(self):\n",
        "        \"\"\"Pop and return the item with min f(item) value.\"\"\"\n",
        "        return heapq.heappop(self.items)[1]\n",
        "\n",
        "    def top(self): return self.items[0][1]\n",
        "\n",
        "    def __len__(self): return len(self.items)\n",
        "\n",
        "def is_cycle(node, k=30):\n",
        "    \"Does this node form a cycle of length k or less?\"\n",
        "    def find_cycle(ancestor, k):\n",
        "        return (ancestor is not None and k > 0 and\n",
        "                (ancestor.state == node.state or find_cycle(ancestor.parent, k - 1)))\n",
        "    return find_cycle(node.parent, k)\n",
        "\n",
        "def breadth_first_search(problem):\n",
        "    \"Search shallowest nodes in the search tree first.\"\n",
        "    node = Node(problem.initial)\n",
        "    if problem.is_goal(problem.initial):\n",
        "        return node\n",
        "    frontier = FIFOQueue([node])\n",
        "    reached = {problem.initial}\n",
        "    while frontier:\n",
        "        node = frontier.pop()\n",
        "        for child in expand(problem, node):\n",
        "            s = child.state\n",
        "\n",
        "            if problem.is_goal(s):\n",
        "                return child\n",
        "            if s not in reached:\n",
        "                reached.add(s)\n",
        "                frontier.appendleft(child)\n",
        "    return failure\n",
        "\n",
        "def iterative_deepening_search(problem):\n",
        "    \"Do depth-limited search with increasing depth limits.\"\n",
        "    for limit in range(1, sys.maxsize):\n",
        "        result = depth_limited_search(problem, limit)\n",
        "        if result != cutoff:\n",
        "            return result\n",
        "\n",
        "\n",
        "def depth_limited_search(problem, limit=10):\n",
        "    \"Search deepest nodes in the search tree first.\"\n",
        "    frontier = LIFOQueue([Node(problem.initial)])\n",
        "    result = failure\n",
        "    N = 0\n",
        "    while frontier:\n",
        "        node = frontier.pop()\n",
        "\n",
        "        if problem.is_goal(node.state):\n",
        "            return node,N\n",
        "\n",
        "        elif len(node) >= limit:\n",
        "            result = cutoff\n",
        "\n",
        "        elif not is_cycle(node):\n",
        "            N+=1\n",
        "            for child in expand(problem, node):\n",
        "                frontier.append(child)\n",
        "    return result\n",
        "\n",
        "\n",
        "def g(n): return n.path_cost\n",
        "\n",
        "\n",
        "def best_first_search(problem, f):\n",
        "    \"Search nodes with minimum f(node) value first.\"\n",
        "    node = Node(problem.initial)\n",
        "    frontier = PriorityQueue([node], key=f)\n",
        "    reached = {problem.initial: node}\n",
        "    N = 0\n",
        "    while frontier:\n",
        "        node = frontier.pop()\n",
        "        N+=1\n",
        "        if problem.is_goal(node.state):\n",
        "\n",
        "            return node, N\n",
        "        for child in expand(problem, node):\n",
        "            s = child.state\n",
        "            if s not in reached or child.path_cost < reached[s].path_cost:\n",
        "                reached[s] = child\n",
        "                frontier.add(child)\n",
        "    return failure\n",
        "\n",
        "def astar_search(problem, h=None):\n",
        "    \"\"\"Search nodes with minimum f(n) = g(n) + h(n).\"\"\"\n",
        "    h = h or problem.h\n",
        "    return best_first_search(problem, f=lambda n: g(n) + h(n))\n",
        "\n"
      ],
      "metadata": {
        "id": "KPu1TGHpm1XH"
      },
      "execution_count": null,
      "outputs": []
    },
    {
      "cell_type": "markdown",
      "metadata": {
        "id": "OQZ94Sq7ebl2"
      },
      "source": [
        "### 2. Evalue su código con diferentes estrategias de búsqueda\n",
        "\n"
      ]
    },
    {
      "cell_type": "markdown",
      "metadata": {
        "id": "RtOQ5gvwi3wE"
      },
      "source": [
        "Consulte el código en el repositorio de AIMA (https://github.com/aimacode/aima-python/blob/master/search4e.ipynb) y utilice las implementaciones de búsqueda en amplitud y búsqueda en profundidad iterativa.\n",
        "\n",
        "Pruebe varias configuraciones iniciales y pruebe cuál es la profundidad máxima que los métodos no informados pueden manejar."
      ]
    },
    {
      "cell_type": "code",
      "source": [
        "def bfs(problem):\n",
        "    \"\"\"\n",
        "    Perform a breadth-first search on the problem.\n",
        "    Return the list of actions to reach the goal state.\n",
        "    \"\"\"\n",
        "    states = []\n",
        "    result = breadth_first_search(problem)\n",
        "    actions = path_actions(result)\n",
        "    print(actions, \"\\n\")\n",
        "\n",
        "    for s in path_states(result):\n",
        "        print(board36(s))\n",
        "        states.append(s)\n",
        "\n",
        "def iterativeDeepeningSearch(problem):\n",
        "    \"\"\"\n",
        "    Perform an iterative deepening search on the problem.\n",
        "    Return the list of actions to reach the goal state.\n",
        "    \"\"\"\n",
        "    result = iterative_deepening_search(problem)\n",
        "    actions = path_actions(result[0])\n",
        "    states = path_states(result[0])\n",
        "    print(actions, \"\\n\")\n",
        "\n",
        "    for s in states:\n",
        "      print(board36(s))\n",
        "\n",
        "bfs(problem)\n",
        "iterativeDeepeningSearch(problem)"
      ],
      "metadata": {
        "id": "6g2B_u9n_mJl",
        "colab": {
          "base_uri": "https://localhost:8080/"
        },
        "outputId": "058c1a04-34e2-4243-cb5e-bd332f8004f2"
      },
      "execution_count": null,
      "outputs": [
        {
          "output_type": "stream",
          "name": "stdout",
          "text": [
            "[] \n",
            "\n",
            "0 0 0 0 0 1 1 0 0\n",
            "0 2 3 4 1 1 5 6 0\n",
            "0 1 1 1 1 1 7 8 0\n",
            "0 0 9 10 0 0 0 0 0\n",
            "\n",
            "[] \n",
            "\n",
            "0 0 0 0 0 1 1 0 0\n",
            "0 2 3 4 1 1 5 6 0\n",
            "0 1 1 1 1 1 7 8 0\n",
            "0 0 9 10 0 0 0 0 0\n",
            "\n"
          ]
        }
      ]
    },
    {
      "cell_type": "markdown",
      "source": [],
      "metadata": {
        "id": "U12qK0hK_gob"
      }
    },
    {
      "cell_type": "code",
      "source": [
        "problem = TripleCross_problem(state)\n",
        "\n",
        "print(\"Breadth first search\\n\")\n",
        "actions_bfs = bfs(problem)\n",
        "print(\"Iterative deepening search\\n\")\n",
        "actions_ids = iterativeDeepeningSearch(problem)"
      ],
      "metadata": {
        "colab": {
          "base_uri": "https://localhost:8080/"
        },
        "id": "5bNzigycnWe0",
        "outputId": "4a02660e-6cad-411e-a068-b8ee7466a818"
      },
      "execution_count": null,
      "outputs": [
        {
          "output_type": "stream",
          "name": "stdout",
          "text": [
            "Breadth first search\n",
            "\n",
            "['P-', 'Q+', 'M+'] \n",
            "\n",
            "0 0 4 1 0 0 0 0 0\n",
            "2 3 1 1 1 1 1 0 0\n",
            "1 1 9 10 1 5 6 0 0\n",
            "0 0 0 0 0 7 8 0 0\n",
            "\n",
            "0 0 0 0 0 0 0 0 0\n",
            "2 3 4 1 1 1 1 0 0\n",
            "1 1 1 1 1 5 6 0 0\n",
            "0 0 9 10 0 7 8 0 0\n",
            "\n",
            "0 0 0 0 0 1 1 0 0\n",
            "2 3 4 1 1 5 6 0 0\n",
            "1 1 1 1 1 7 8 0 0\n",
            "0 0 9 10 0 0 0 0 0\n",
            "\n",
            "0 0 0 0 0 1 1 0 0\n",
            "0 2 3 4 1 1 5 6 0\n",
            "0 1 1 1 1 1 7 8 0\n",
            "0 0 9 10 0 0 0 0 0\n",
            "\n",
            "Iterative deepening search\n",
            "\n",
            "['Q+', 'P-', 'M+'] \n",
            "\n",
            "0 0 4 1 0 0 0 0 0\n",
            "2 3 1 1 1 1 1 0 0\n",
            "1 1 9 10 1 5 6 0 0\n",
            "0 0 0 0 0 7 8 0 0\n",
            "\n",
            "0 0 4 1 0 1 1 0 0\n",
            "2 3 1 1 1 5 6 0 0\n",
            "1 1 9 10 1 7 8 0 0\n",
            "0 0 0 0 0 0 0 0 0\n",
            "\n",
            "0 0 0 0 0 1 1 0 0\n",
            "2 3 4 1 1 5 6 0 0\n",
            "1 1 1 1 1 7 8 0 0\n",
            "0 0 9 10 0 0 0 0 0\n",
            "\n",
            "0 0 0 0 0 1 1 0 0\n",
            "0 2 3 4 1 1 5 6 0\n",
            "0 1 1 1 1 1 7 8 0\n",
            "0 0 9 10 0 0 0 0 0\n",
            "\n"
          ]
        }
      ]
    },
    {
      "cell_type": "markdown",
      "metadata": {
        "id": "wbPp0Sy8ebl-"
      },
      "source": [
        "## 3. Implemente diferente heurísticas para el problema"
      ]
    },
    {
      "cell_type": "markdown",
      "metadata": {
        "collapsed": true,
        "id": "jxHUhCveebl-"
      },
      "source": [
        "Consulte el código en el repositorio de AIMA (https://github.com/aimacode/aima-python/blob/master/search4e.ipynb) y utilice la implementación de A*.\n",
        "\n",
        "Implemente al menos dos heurísticas admisibles y consistentes. Compare A * usando la heurística contra IDS calculando el número de nodos expandidos y el factor de ramificación efectivo, de la misma forma como se hace en la figura 3.29 de la 3ra edición de [Russell10]."
      ]
    },
    {
      "cell_type": "code",
      "source": [
        "def nullHeuristic(state):\n",
        "    return 0\n",
        "\n",
        "def aStarSearch(problem, h=nullHeuristic):\n",
        "    \"\"\"\n",
        "    Perform an A*t search on the problem.\n",
        "    Returns the list of actions to reach the goal state.\n",
        "    \"\"\"\n",
        "    result = astar_search(problem, h)\n",
        "    return path_actions(result[0])\n",
        "\n",
        "def myHeuristic(state):\n",
        "    ### your code here ###\n",
        "    return 0\n",
        "\n"
      ],
      "metadata": {
        "id": "N9bZf1DooXUS"
      },
      "execution_count": null,
      "outputs": []
    },
    {
      "cell_type": "code",
      "source": [
        "problem = TripleCross_problem(state)\n",
        "\n",
        "print(\"A* WITH H2\")\n",
        "result_h2 = astar_search(problem, problem.h4)\n",
        "N_h2 = result_h2[1]\n",
        "depth = len(path_states(result_h2[0])) - 1\n",
        "print(\"Nodos expandidos\", N_h2)\n",
        "print(\"A* (h2) DEPTH\", depth)\n",
        "print(\"Branching factor\", N_h2**(1/depth))"
      ],
      "metadata": {
        "colab": {
          "base_uri": "https://localhost:8080/"
        },
        "id": "D9YV0uQ-dWS6",
        "outputId": "fe17d9ec-ba15-458f-ceff-e189db91761b"
      },
      "execution_count": null,
      "outputs": [
        {
          "output_type": "stream",
          "name": "stdout",
          "text": [
            "A* WITH H2\n",
            "Nodos expandidos 6\n",
            "A* (h2) DEPTH 3\n",
            "Branching factor 1.8171205928321397\n"
          ]
        }
      ]
    },
    {
      "cell_type": "code",
      "source": [],
      "metadata": {
        "id": "ve3J3IjjuR5o"
      },
      "execution_count": null,
      "outputs": []
    }
  ],
  "metadata": {
    "colab": {
      "provenance": [],
      "include_colab_link": true
    },
    "kernelspec": {
      "display_name": "base",
      "language": "python",
      "name": "python3"
    },
    "language_info": {
      "codemirror_mode": {
        "name": "ipython",
        "version": 3
      },
      "file_extension": ".py",
      "mimetype": "text/x-python",
      "name": "python",
      "nbconvert_exporter": "python",
      "pygments_lexer": "ipython3",
      "version": "3.10.12"
    }
  },
  "nbformat": 4,
  "nbformat_minor": 0
}